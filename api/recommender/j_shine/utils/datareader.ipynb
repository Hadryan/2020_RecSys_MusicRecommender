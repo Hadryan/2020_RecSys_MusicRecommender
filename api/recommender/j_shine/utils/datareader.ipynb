{
 "cells": [
  {
   "cell_type": "code",
   "execution_count": 1,
   "metadata": {
    "collapsed": true
   },
   "outputs": [],
   "source": [
    "import os\n",
    "import json\n",
    "import pandas as pd\n",
    "import numpy as np\n",
    "import scipy.sparse as sp\n",
    "\n",
    "NUM_TRAIN_SONGS = 5285871\n",
    "NUM_TRAIN_PLAYLISTS = 115071\n",
    "MAX_PLAYLISTS = 153429\n",
    "NUM_TRACKS = 707989\n",
    "\n",
    "class DataReader:\n",
    "    def __init__(self, train_fname = \"../data/data_json/train.json\"):\n",
    "        train_list = self.load_json(train_fname)\n",
    "        self.train_df = pd.DataFrame(index=range(0, NUM_TRAIN_SONGS),\n",
    "                                     columns=[\"playlist_id\", \"song_id\"])\n",
    "        \"\"\"\n",
    "        train.json에서 playlist_id와 song_id만 추출하여 dataframe 만들기\n",
    "        \"\"\"\n",
    "        i = 0\n",
    "        for dic in train_list:\n",
    "            for (k, v) in dic.items():\n",
    "                if(k == \"id\"):\n",
    "                    playlist_id = v\n",
    "                if(k == \"songs\"):\n",
    "                    for song_id in v:\n",
    "                        self.train_df.iloc[i][0] = playlist_id\n",
    "                        self.train_df.iloc[i][1] = song_id\n",
    "                        i = i + 1\n",
    "\n",
    "        self.train_df.rename(columns={'playlist_id':'pid',\n",
    "                                      'song_id':'tid'},inplace=True)\n",
    "        # csv로 저장\n",
    "        self.train_df.to_csv(\"../data/data_csv/train.csv\")\n",
    "\n",
    "    def get_urm(self):\n",
    "        # collect data to build urm\n",
    "        playlists = self.train_df['pid'].values\n",
    "        tracks = self.train_df['tid'].values\n",
    "        assert (playlists.size == tracks.size)\n",
    "        n_playlists = MAX_PLAYLISTS\n",
    "        n_tracks = NUM_TRACKS\n",
    "        n_interactions = tracks.size\n",
    "\n",
    "        # building the user-rating matrix(playlist-track matrix)\n",
    "        urm = sp.csr_matrix((np.ones(n_interactions), (playlists,tracks)),\n",
    "                            shape=(n_playlists, n_tracks), dtype=np.int32)\n",
    "        # save urm\n",
    "        self.__save_matrix('ptm',urm)\n",
    "\n",
    "        return urm\n",
    "\n",
    "    def load_json(self, fname):\n",
    "        with open(fname, encoding=\"utf-8\") as f:\n",
    "            json_obj = json.load(f)\n",
    "\n",
    "        return json_obj\n",
    "\n",
    "    def __save_matrix(self, name, sparse_matrix):\n",
    "        if not os.path.exists('../matrices/'):\n",
    "            os.makedirs('../matrices/')\n",
    "        print(\"[saving \"+name+\".npz in \"+'../matrices'+ \" ]\")\n",
    "        sp.save_npz('../matrices/' + name+ '.npz', sparse_matrix)\n",
    "\n",
    "    def get_val_playlists(self):\n",
    "        \"\"\"\n",
    "        :param name /.../num_tracks:  if true it will be in the numpy array returned\n",
    "        :return:            numpy ndarray of shape (10k, 2/3/4/5 )\n",
    "                                                    (playlists id, features[name...numtracks]\n",
    "        \"\"\"\n",
    "        df = pd.read_csv(filepath_or_buffer='../data/data_csv/val.csv',\n",
    "                         sep=',', header=0,\n",
    "                         usecols=['pid'],\n",
    "                         dtype={'pid': np.int32})\n",
    "\n",
    "        # building info\n",
    "        i = 0\n",
    "        p_info = [df['pid'].values]\n",
    "        order = str(i) + '-pid'\n",
    "        i += 1\n",
    "\n",
    "        p_info = np.array(p_info).T\n",
    "        return p_info"
   ]
  },
  {
   "cell_type": "code",
   "execution_count": 57,
   "outputs": [
    {
     "name": "stdout",
     "output_type": "stream",
     "text": [
      "[saving ptm.npz in ../matrices ]\n"
     ]
    }
   ],
   "source": [
    "# make DataReader object and read json file and conver to the csv\n",
    "dr = DataReader()\n",
    "# make playlist-track matrix and return\n",
    "urm = dr.get_urm()"
   ],
   "metadata": {
    "collapsed": false,
    "pycharm": {
     "name": "#%%\n"
    }
   }
  },
  {
   "cell_type": "code",
   "execution_count": 18,
   "outputs": [],
   "source": [],
   "metadata": {
    "collapsed": false,
    "pycharm": {
     "name": "#%%\n"
    }
   }
  },
  {
   "cell_type": "code",
   "execution_count": 3,
   "outputs": [],
   "source": [
    "#test\n",
    "NUM_VAL_PLAYLISTS = 23015\n",
    "def load_json(fname):\n",
    "    with open(fname, encoding=\"utf-8\") as f:\n",
    "        json_obj = json.load(f)\n",
    "\n",
    "    return json_obj\n",
    "\n",
    "val_fname = \"../data/data_json/val.json\"\n",
    "val_list = load_json(val_fname)\n",
    "val_df = pd.DataFrame(index=range(0, NUM_VAL_PLAYLISTS),\n",
    "                                     columns=[\"playlist_id\"])\n",
    "i = 0\n",
    "for dic in val_list:\n",
    "    for (k, v) in dic.items():\n",
    "        if (k == \"id\"):\n",
    "            val_df.iloc[i][0] = v\n",
    "            i = i + 1"
   ],
   "metadata": {
    "collapsed": false,
    "pycharm": {
     "name": "#%%\n"
    }
   }
  },
  {
   "cell_type": "code",
   "execution_count": 4,
   "outputs": [
    {
     "data": {
      "text/plain": "      playlist_id\n0          118598\n1          131447\n2           51464\n3           45144\n4           79929\n...           ...\n23010      101722\n23011      122127\n23012       77438\n23013       36231\n23014       65189\n\n[23015 rows x 1 columns]",
      "text/html": "<div>\n<style scoped>\n    .dataframe tbody tr th:only-of-type {\n        vertical-align: middle;\n    }\n\n    .dataframe tbody tr th {\n        vertical-align: top;\n    }\n\n    .dataframe thead th {\n        text-align: right;\n    }\n</style>\n<table border=\"1\" class=\"dataframe\">\n  <thead>\n    <tr style=\"text-align: right;\">\n      <th></th>\n      <th>playlist_id</th>\n    </tr>\n  </thead>\n  <tbody>\n    <tr>\n      <th>0</th>\n      <td>118598</td>\n    </tr>\n    <tr>\n      <th>1</th>\n      <td>131447</td>\n    </tr>\n    <tr>\n      <th>2</th>\n      <td>51464</td>\n    </tr>\n    <tr>\n      <th>3</th>\n      <td>45144</td>\n    </tr>\n    <tr>\n      <th>4</th>\n      <td>79929</td>\n    </tr>\n    <tr>\n      <th>...</th>\n      <td>...</td>\n    </tr>\n    <tr>\n      <th>23010</th>\n      <td>101722</td>\n    </tr>\n    <tr>\n      <th>23011</th>\n      <td>122127</td>\n    </tr>\n    <tr>\n      <th>23012</th>\n      <td>77438</td>\n    </tr>\n    <tr>\n      <th>23013</th>\n      <td>36231</td>\n    </tr>\n    <tr>\n      <th>23014</th>\n      <td>65189</td>\n    </tr>\n  </tbody>\n</table>\n<p>23015 rows × 1 columns</p>\n</div>"
     },
     "execution_count": 4,
     "metadata": {},
     "output_type": "execute_result"
    }
   ],
   "source": [
    "val_df"
   ],
   "metadata": {
    "collapsed": false,
    "pycharm": {
     "name": "#%%\n"
    }
   }
  },
  {
   "cell_type": "code",
   "execution_count": 6,
   "outputs": [],
   "source": [
    "val_df.rename(columns={'playlist_id':'pid'}, inplace=True)"
   ],
   "metadata": {
    "collapsed": false,
    "pycharm": {
     "name": "#%%\n"
    }
   }
  },
  {
   "cell_type": "code",
   "execution_count": 7,
   "outputs": [
    {
     "data": {
      "text/plain": "          pid\n0      118598\n1      131447\n2       51464\n3       45144\n4       79929\n...       ...\n23010  101722\n23011  122127\n23012   77438\n23013   36231\n23014   65189\n\n[23015 rows x 1 columns]",
      "text/html": "<div>\n<style scoped>\n    .dataframe tbody tr th:only-of-type {\n        vertical-align: middle;\n    }\n\n    .dataframe tbody tr th {\n        vertical-align: top;\n    }\n\n    .dataframe thead th {\n        text-align: right;\n    }\n</style>\n<table border=\"1\" class=\"dataframe\">\n  <thead>\n    <tr style=\"text-align: right;\">\n      <th></th>\n      <th>pid</th>\n    </tr>\n  </thead>\n  <tbody>\n    <tr>\n      <th>0</th>\n      <td>118598</td>\n    </tr>\n    <tr>\n      <th>1</th>\n      <td>131447</td>\n    </tr>\n    <tr>\n      <th>2</th>\n      <td>51464</td>\n    </tr>\n    <tr>\n      <th>3</th>\n      <td>45144</td>\n    </tr>\n    <tr>\n      <th>4</th>\n      <td>79929</td>\n    </tr>\n    <tr>\n      <th>...</th>\n      <td>...</td>\n    </tr>\n    <tr>\n      <th>23010</th>\n      <td>101722</td>\n    </tr>\n    <tr>\n      <th>23011</th>\n      <td>122127</td>\n    </tr>\n    <tr>\n      <th>23012</th>\n      <td>77438</td>\n    </tr>\n    <tr>\n      <th>23013</th>\n      <td>36231</td>\n    </tr>\n    <tr>\n      <th>23014</th>\n      <td>65189</td>\n    </tr>\n  </tbody>\n</table>\n<p>23015 rows × 1 columns</p>\n</div>"
     },
     "execution_count": 7,
     "metadata": {},
     "output_type": "execute_result"
    }
   ],
   "source": [
    "val_df"
   ],
   "metadata": {
    "collapsed": false,
    "pycharm": {
     "name": "#%%\n"
    }
   }
  },
  {
   "cell_type": "code",
   "execution_count": 1,
   "outputs": [],
   "source": [
    "import pandas as pd\n",
    "import numpy as np\n",
    "def load_train_csv(train_fname):\n",
    "    loaded = pd.read_csv(filepath_or_buffer=train_fname,\n",
    "                     sep=',', header=0,\n",
    "                     usecols=['pid', 'tid'],\n",
    "                     dtype={'pid': np.int32, 'tid': np.int32})\n",
    "    return loaded\n",
    "\n",
    "df = load_train_csv(\"../data/data_csv/train.csv\")\n"
   ],
   "metadata": {
    "collapsed": false,
    "pycharm": {
     "name": "#%%\n"
    }
   }
  },
  {
   "cell_type": "code",
   "execution_count": null,
   "outputs": [],
   "source": [
    "\n",
    "\n",
    "\n",
    "\n",
    "\n",
    "\n",
    "\n",
    "\n",
    "\n",
    "\n",
    "\n",
    "\n",
    "\n",
    "\n",
    "\n",
    "\n",
    "\n",
    "dr.train_df.rename(columns={'playlist_id':'pid',\n",
    "                                      'song_id':'tid'},inplace=True)"
   ],
   "metadata": {
    "collapsed": false,
    "pycharm": {
     "name": "#%%\n"
    }
   }
  },
  {
   "cell_type": "code",
   "execution_count": 19,
   "outputs": [],
   "source": [
    "dr.train_df.to_csv(\"../data/data_csv/train.csv\")"
   ],
   "metadata": {
    "collapsed": false,
    "pycharm": {
     "name": "#%%\n"
    }
   }
  },
  {
   "cell_type": "code",
   "execution_count": 20,
   "outputs": [],
   "source": [
    "read_train = pd.read_csv(filepath_or_buffer=\"../data/data_csv/train.csv\",\n",
    "                               sep=',',header=0, usecols=['pid', 'tid'],\n",
    "                               dtype={'pid': np.int32, 'tid': np.int32})\n",
    "\n"
   ],
   "metadata": {
    "collapsed": false,
    "pycharm": {
     "name": "#%%\n"
    }
   }
  },
  {
   "cell_type": "code",
   "execution_count": 21,
   "outputs": [
    {
     "data": {
      "text/plain": "            pid     tid\n0         61281  525514\n1         61281  129701\n2         61281  383374\n3         61281  562083\n4         61281  297861\n...         ...     ...\n5285866  100389  111365\n5285867  100389   51373\n5285868  100389  640239\n5285869  100389   13759\n5285870  100389  154078\n\n[5285871 rows x 2 columns]",
      "text/html": "<div>\n<style scoped>\n    .dataframe tbody tr th:only-of-type {\n        vertical-align: middle;\n    }\n\n    .dataframe tbody tr th {\n        vertical-align: top;\n    }\n\n    .dataframe thead th {\n        text-align: right;\n    }\n</style>\n<table border=\"1\" class=\"dataframe\">\n  <thead>\n    <tr style=\"text-align: right;\">\n      <th></th>\n      <th>pid</th>\n      <th>tid</th>\n    </tr>\n  </thead>\n  <tbody>\n    <tr>\n      <th>0</th>\n      <td>61281</td>\n      <td>525514</td>\n    </tr>\n    <tr>\n      <th>1</th>\n      <td>61281</td>\n      <td>129701</td>\n    </tr>\n    <tr>\n      <th>2</th>\n      <td>61281</td>\n      <td>383374</td>\n    </tr>\n    <tr>\n      <th>3</th>\n      <td>61281</td>\n      <td>562083</td>\n    </tr>\n    <tr>\n      <th>4</th>\n      <td>61281</td>\n      <td>297861</td>\n    </tr>\n    <tr>\n      <th>...</th>\n      <td>...</td>\n      <td>...</td>\n    </tr>\n    <tr>\n      <th>5285866</th>\n      <td>100389</td>\n      <td>111365</td>\n    </tr>\n    <tr>\n      <th>5285867</th>\n      <td>100389</td>\n      <td>51373</td>\n    </tr>\n    <tr>\n      <th>5285868</th>\n      <td>100389</td>\n      <td>640239</td>\n    </tr>\n    <tr>\n      <th>5285869</th>\n      <td>100389</td>\n      <td>13759</td>\n    </tr>\n    <tr>\n      <th>5285870</th>\n      <td>100389</td>\n      <td>154078</td>\n    </tr>\n  </tbody>\n</table>\n<p>5285871 rows × 2 columns</p>\n</div>"
     },
     "execution_count": 21,
     "metadata": {},
     "output_type": "execute_result"
    }
   ],
   "source": [
    "read_train"
   ],
   "metadata": {
    "collapsed": false,
    "pycharm": {
     "name": "#%%\n"
    }
   }
  },
  {
   "cell_type": "code",
   "execution_count": 37,
   "outputs": [
    {
     "data": {
      "text/plain": "153428"
     },
     "execution_count": 37,
     "metadata": {},
     "output_type": "execute_result"
    }
   ],
   "source": [
    "a = read_train.iloc[read_train[\"pid\"].idxmax()][0]\n",
    "a"
   ],
   "metadata": {
    "collapsed": false,
    "pycharm": {
     "name": "#%%\n"
    }
   }
  },
  {
   "cell_type": "code",
   "execution_count": 23,
   "outputs": [
    {
     "data": {
      "text/plain": "             pid     tid  pos\n0              0       0    0\n1              0       1    1\n2              0       2    2\n3              0       3    3\n4              0       4    4\n...          ...     ...  ...\n66346423  999999   72432  105\n66346424  999999  288294  106\n66346425  999999  141054  107\n66346426  999999  141039  108\n66346427  999999   72395  109\n\n[66346428 rows x 3 columns]",
      "text/html": "<div>\n<style scoped>\n    .dataframe tbody tr th:only-of-type {\n        vertical-align: middle;\n    }\n\n    .dataframe tbody tr th {\n        vertical-align: top;\n    }\n\n    .dataframe thead th {\n        text-align: right;\n    }\n</style>\n<table border=\"1\" class=\"dataframe\">\n  <thead>\n    <tr style=\"text-align: right;\">\n      <th></th>\n      <th>pid</th>\n      <th>tid</th>\n      <th>pos</th>\n    </tr>\n  </thead>\n  <tbody>\n    <tr>\n      <th>0</th>\n      <td>0</td>\n      <td>0</td>\n      <td>0</td>\n    </tr>\n    <tr>\n      <th>1</th>\n      <td>0</td>\n      <td>1</td>\n      <td>1</td>\n    </tr>\n    <tr>\n      <th>2</th>\n      <td>0</td>\n      <td>2</td>\n      <td>2</td>\n    </tr>\n    <tr>\n      <th>3</th>\n      <td>0</td>\n      <td>3</td>\n      <td>3</td>\n    </tr>\n    <tr>\n      <th>4</th>\n      <td>0</td>\n      <td>4</td>\n      <td>4</td>\n    </tr>\n    <tr>\n      <th>...</th>\n      <td>...</td>\n      <td>...</td>\n      <td>...</td>\n    </tr>\n    <tr>\n      <th>66346423</th>\n      <td>999999</td>\n      <td>72432</td>\n      <td>105</td>\n    </tr>\n    <tr>\n      <th>66346424</th>\n      <td>999999</td>\n      <td>288294</td>\n      <td>106</td>\n    </tr>\n    <tr>\n      <th>66346425</th>\n      <td>999999</td>\n      <td>141054</td>\n      <td>107</td>\n    </tr>\n    <tr>\n      <th>66346426</th>\n      <td>999999</td>\n      <td>141039</td>\n      <td>108</td>\n    </tr>\n    <tr>\n      <th>66346427</th>\n      <td>999999</td>\n      <td>72395</td>\n      <td>109</td>\n    </tr>\n  </tbody>\n</table>\n<p>66346428 rows × 3 columns</p>\n</div>"
     },
     "execution_count": 23,
     "metadata": {},
     "output_type": "execute_result"
    }
   ],
   "source": [
    "a = pd.read_csv(\"../data/recsys/train_interactions.csv\",sep='\\t')\n",
    "a"
   ],
   "metadata": {
    "collapsed": false,
    "pycharm": {
     "name": "#%%\n"
    }
   }
  },
  {
   "cell_type": "code",
   "execution_count": 24,
   "outputs": [
    {
     "data": {
      "text/plain": "             tid    arid    alid                             track_uri  \\\n0              0       0       0  spotify:track:0UaMYEvWZi0ZqiDOoHU3YI   \n1              1       1       1  spotify:track:6I9VzXrHxO9rA9A5euc8Ak   \n2              2       2       2  spotify:track:0WqIKmW4BTrj3eJFmnCKMv   \n3              3       3       3  spotify:track:1AWQoqb9bSvzTjaLralEkT   \n4              4       4       4  spotify:track:1lzr43nnXAijIGYnCT8M8H   \n...          ...     ...     ...                                   ...   \n2262287  2262287   93486  229637  spotify:track:2aOoiTTV0OR8DYxCk8o0JR   \n2262288  2262288   93486  229637  spotify:track:1Uo65qTxnCg1N1X00lgcjr   \n2262289  2262289   93486  229637  spotify:track:5uEE5tii66I0cC7kZ7IMxE   \n2262290  2262290   93486  229637  spotify:track:6A1RfnrMdxb24OYllzzTUX   \n2262291  2262291  295859  734683  spotify:track:5DvykFHB6utG6Hozpt5eNK   \n\n                                         track_name  duration_ms  \n0        Lose Control (feat. Ciara & Fat Man Scoop)       226863  \n1                                             Toxic       198800  \n2                                     Crazy In Love       235933  \n3                                    Rock Your Body       267266  \n4                                      It Wasn't Me       227600  \n...                                             ...          ...  \n2262287          Forevermind - Pax217 Album Version       206400  \n2262288               Shalom - Pax217 Album Version       268266  \n2262289           Free To Be - Pax217 Album Version       334280  \n2262290                Skwid - Pax217 Album Version       240453  \n2262291                                Running Thin       341933  \n\n[2262292 rows x 6 columns]",
      "text/html": "<div>\n<style scoped>\n    .dataframe tbody tr th:only-of-type {\n        vertical-align: middle;\n    }\n\n    .dataframe tbody tr th {\n        vertical-align: top;\n    }\n\n    .dataframe thead th {\n        text-align: right;\n    }\n</style>\n<table border=\"1\" class=\"dataframe\">\n  <thead>\n    <tr style=\"text-align: right;\">\n      <th></th>\n      <th>tid</th>\n      <th>arid</th>\n      <th>alid</th>\n      <th>track_uri</th>\n      <th>track_name</th>\n      <th>duration_ms</th>\n    </tr>\n  </thead>\n  <tbody>\n    <tr>\n      <th>0</th>\n      <td>0</td>\n      <td>0</td>\n      <td>0</td>\n      <td>spotify:track:0UaMYEvWZi0ZqiDOoHU3YI</td>\n      <td>Lose Control (feat. Ciara &amp; Fat Man Scoop)</td>\n      <td>226863</td>\n    </tr>\n    <tr>\n      <th>1</th>\n      <td>1</td>\n      <td>1</td>\n      <td>1</td>\n      <td>spotify:track:6I9VzXrHxO9rA9A5euc8Ak</td>\n      <td>Toxic</td>\n      <td>198800</td>\n    </tr>\n    <tr>\n      <th>2</th>\n      <td>2</td>\n      <td>2</td>\n      <td>2</td>\n      <td>spotify:track:0WqIKmW4BTrj3eJFmnCKMv</td>\n      <td>Crazy In Love</td>\n      <td>235933</td>\n    </tr>\n    <tr>\n      <th>3</th>\n      <td>3</td>\n      <td>3</td>\n      <td>3</td>\n      <td>spotify:track:1AWQoqb9bSvzTjaLralEkT</td>\n      <td>Rock Your Body</td>\n      <td>267266</td>\n    </tr>\n    <tr>\n      <th>4</th>\n      <td>4</td>\n      <td>4</td>\n      <td>4</td>\n      <td>spotify:track:1lzr43nnXAijIGYnCT8M8H</td>\n      <td>It Wasn't Me</td>\n      <td>227600</td>\n    </tr>\n    <tr>\n      <th>...</th>\n      <td>...</td>\n      <td>...</td>\n      <td>...</td>\n      <td>...</td>\n      <td>...</td>\n      <td>...</td>\n    </tr>\n    <tr>\n      <th>2262287</th>\n      <td>2262287</td>\n      <td>93486</td>\n      <td>229637</td>\n      <td>spotify:track:2aOoiTTV0OR8DYxCk8o0JR</td>\n      <td>Forevermind - Pax217 Album Version</td>\n      <td>206400</td>\n    </tr>\n    <tr>\n      <th>2262288</th>\n      <td>2262288</td>\n      <td>93486</td>\n      <td>229637</td>\n      <td>spotify:track:1Uo65qTxnCg1N1X00lgcjr</td>\n      <td>Shalom - Pax217 Album Version</td>\n      <td>268266</td>\n    </tr>\n    <tr>\n      <th>2262289</th>\n      <td>2262289</td>\n      <td>93486</td>\n      <td>229637</td>\n      <td>spotify:track:5uEE5tii66I0cC7kZ7IMxE</td>\n      <td>Free To Be - Pax217 Album Version</td>\n      <td>334280</td>\n    </tr>\n    <tr>\n      <th>2262290</th>\n      <td>2262290</td>\n      <td>93486</td>\n      <td>229637</td>\n      <td>spotify:track:6A1RfnrMdxb24OYllzzTUX</td>\n      <td>Skwid - Pax217 Album Version</td>\n      <td>240453</td>\n    </tr>\n    <tr>\n      <th>2262291</th>\n      <td>2262291</td>\n      <td>295859</td>\n      <td>734683</td>\n      <td>spotify:track:5DvykFHB6utG6Hozpt5eNK</td>\n      <td>Running Thin</td>\n      <td>341933</td>\n    </tr>\n  </tbody>\n</table>\n<p>2262292 rows × 6 columns</p>\n</div>"
     },
     "execution_count": 24,
     "metadata": {},
     "output_type": "execute_result"
    }
   ],
   "source": [
    "b = pd.read_csv(\"../data/recsys/tracks.csv\",sep='\\t')\n",
    "b"
   ],
   "metadata": {
    "collapsed": false,
    "pycharm": {
     "name": "#%%\n"
    }
   }
  },
  {
   "cell_type": "code",
   "execution_count": 42,
   "outputs": [],
   "source": [
    "# Dataframe with interactions\n",
    "\n",
    "# collect data to build urm\n",
    "playlists = dr.train_df['pid'].values\n",
    "tracks = dr.train_df['tid'].values\n",
    "assert (playlists.size == tracks.size)\n",
    "n_playlists = MAX_PLAYLISTS\n",
    "n_tracks = NUM_TRACKS\n",
    "n_interactions = tracks.size\n",
    "\n",
    "# building the urm\n",
    "urm = sp.csr_matrix((np.ones(n_interactions), (playlists,tracks)),\n",
    "                    shape=(n_playlists, n_tracks), dtype=np.int32)"
   ],
   "metadata": {
    "collapsed": false,
    "pycharm": {
     "name": "#%%\n"
    }
   }
  },
  {
   "cell_type": "code",
   "execution_count": 43,
   "outputs": [
    {
     "data": {
      "text/plain": "<153429x707989 sparse matrix of type '<class 'numpy.int32'>'\n\twith 5285871 stored elements in Compressed Sparse Row format>"
     },
     "execution_count": 43,
     "metadata": {},
     "output_type": "execute_result"
    }
   ],
   "source": [
    "urm"
   ],
   "metadata": {
    "collapsed": false,
    "pycharm": {
     "name": "#%%\n"
    }
   }
  },
  {
   "cell_type": "code",
   "execution_count": 48,
   "outputs": [],
   "source": [
    "def __save_matrix(name, sparse_matrix):\n",
    "    if not os.path.exists('../matrices/'):\n",
    "        os.makedirs('../matrices/')\n",
    "    print(\"[saving \"+name+\".npz in \"+'../matrices'+ \" ]\")\n",
    "    sp.save_npz('../matrices/' + name+ '.npz', sparse_matrix)"
   ],
   "metadata": {
    "collapsed": false,
    "pycharm": {
     "name": "#%%\n"
    }
   }
  },
  {
   "cell_type": "code",
   "execution_count": 49,
   "outputs": [
    {
     "name": "stdout",
     "output_type": "stream",
     "text": [
      "[saving ptm.npz in ../matrices ]\n"
     ]
    }
   ],
   "source": [
    "# save on disk\n",
    "__save_matrix('ptm',urm)"
   ],
   "metadata": {
    "collapsed": false,
    "pycharm": {
     "name": "#%%\n"
    }
   }
  },
  {
   "cell_type": "code",
   "execution_count": 53,
   "outputs": [
    {
     "ename": "AttributeError",
     "evalue": "'DataReader' object has no attribute 'get_urm'",
     "output_type": "error",
     "traceback": [
      "\u001B[1;31m---------------------------------------------------------------------------\u001B[0m",
      "\u001B[1;31mAttributeError\u001B[0m                            Traceback (most recent call last)",
      "\u001B[1;32m<ipython-input-53-5fcd7cb8ad1a>\u001B[0m in \u001B[0;36m<module>\u001B[1;34m\u001B[0m\n\u001B[1;32m----> 1\u001B[1;33m \u001B[0mdr\u001B[0m\u001B[1;33m.\u001B[0m\u001B[0mget_urm\u001B[0m\u001B[1;33m(\u001B[0m\u001B[1;33m)\u001B[0m\u001B[1;33m\u001B[0m\u001B[1;33m\u001B[0m\u001B[0m\n\u001B[0m\u001B[0;32m      2\u001B[0m \u001B[1;33m\u001B[0m\u001B[0m\n\u001B[0;32m      3\u001B[0m \u001B[1;33m\u001B[0m\u001B[0m\n",
      "\u001B[1;31mAttributeError\u001B[0m: 'DataReader' object has no attribute 'get_urm'"
     ]
    }
   ],
   "source": [
    "dr.get_urm()\n"
   ],
   "metadata": {
    "collapsed": false,
    "pycharm": {
     "name": "#%%\n"
    }
   }
  },
  {
   "cell_type": "code",
   "execution_count": 1,
   "outputs": [],
   "source": [
    "import pandas as pd\n",
    "import numpy as np\n",
    "\n",
    "train = pd.read_json('../data/data_json/test.json', typ = 'frame')\n",
    "\n",
    "\n",
    "# 플레이리스트 아이디(id)와 수록곡(songs) 추출\n",
    "plylst_song_map = train[['id', 'songs']]\n",
    "\n",
    "# unnest songs\n",
    "plylst_song_map_unnest = np.dstack(\n",
    "    (\n",
    "        np.repeat(plylst_song_map.id.values, list(map(len, plylst_song_map.songs))),\n",
    "        np.concatenate(plylst_song_map.songs.values)\n",
    "    )\n",
    ")\n",
    "\n",
    "# unnested 데이터프레임 생성 : plylst_song_map\n",
    "plylst_song_map = pd.DataFrame(data = plylst_song_map_unnest[0], columns = plylst_song_map.columns)\n",
    "plylst_song_map['id'] = plylst_song_map['id'].astype(str)\n",
    "plylst_song_map['songs'] = plylst_song_map['songs'].astype(str)\n",
    "\n",
    "# unnest 객체 제거\n",
    "del plylst_song_map_unnest"
   ],
   "metadata": {
    "collapsed": false,
    "pycharm": {
     "name": "#%%\n"
    }
   }
  },
  {
   "cell_type": "code",
   "execution_count": 2,
   "outputs": [
    {
     "data": {
      "text/plain": "              id     songs\n0        70107.0  398985.0\n1        70107.0  449403.0\n2        70107.0  411543.0\n3        70107.0  528044.0\n4        70107.0  143048.0\n...          ...       ...\n197643  126651.0  525309.0\n197644  126651.0  324209.0\n197645  126651.0  124706.0\n197646  126651.0  265060.0\n197647  126651.0  317738.0\n\n[197648 rows x 2 columns]",
      "text/html": "<div>\n<style scoped>\n    .dataframe tbody tr th:only-of-type {\n        vertical-align: middle;\n    }\n\n    .dataframe tbody tr th {\n        vertical-align: top;\n    }\n\n    .dataframe thead th {\n        text-align: right;\n    }\n</style>\n<table border=\"1\" class=\"dataframe\">\n  <thead>\n    <tr style=\"text-align: right;\">\n      <th></th>\n      <th>id</th>\n      <th>songs</th>\n    </tr>\n  </thead>\n  <tbody>\n    <tr>\n      <th>0</th>\n      <td>70107.0</td>\n      <td>398985.0</td>\n    </tr>\n    <tr>\n      <th>1</th>\n      <td>70107.0</td>\n      <td>449403.0</td>\n    </tr>\n    <tr>\n      <th>2</th>\n      <td>70107.0</td>\n      <td>411543.0</td>\n    </tr>\n    <tr>\n      <th>3</th>\n      <td>70107.0</td>\n      <td>528044.0</td>\n    </tr>\n    <tr>\n      <th>4</th>\n      <td>70107.0</td>\n      <td>143048.0</td>\n    </tr>\n    <tr>\n      <th>...</th>\n      <td>...</td>\n      <td>...</td>\n    </tr>\n    <tr>\n      <th>197643</th>\n      <td>126651.0</td>\n      <td>525309.0</td>\n    </tr>\n    <tr>\n      <th>197644</th>\n      <td>126651.0</td>\n      <td>324209.0</td>\n    </tr>\n    <tr>\n      <th>197645</th>\n      <td>126651.0</td>\n      <td>124706.0</td>\n    </tr>\n    <tr>\n      <th>197646</th>\n      <td>126651.0</td>\n      <td>265060.0</td>\n    </tr>\n    <tr>\n      <th>197647</th>\n      <td>126651.0</td>\n      <td>317738.0</td>\n    </tr>\n  </tbody>\n</table>\n<p>197648 rows × 2 columns</p>\n</div>"
     },
     "execution_count": 2,
     "metadata": {},
     "output_type": "execute_result"
    }
   ],
   "source": [
    "plylst_song_map\n",
    "\n"
   ],
   "metadata": {
    "collapsed": false,
    "pycharm": {
     "name": "#%%\n"
    }
   }
  },
  {
   "cell_type": "code",
   "execution_count": null,
   "outputs": [],
   "source": [
    "import pandas as pd\n",
    "import numpy as np\n",
    "\n",
    "train = pd.read_json('../data/data_json/val.json', typ = 'frame')\n",
    "\n",
    "\n",
    "# 플레이리스트 아이디(id)와 수록곡(songs) 추출\n",
    "plylst_song_map = train[['id', 'songs']]\n",
    "\n",
    "# unnest songs\n",
    "plylst_song_map_unnest = np.dstack(\n",
    "    (\n",
    "        np.repeat(plylst_song_map.id.values, list(map(len, plylst_song_map.songs))),\n",
    "        np.concatenate(plylst_song_map.songs.values)\n",
    "    )\n",
    ")\n",
    "\n",
    "# unnested 데이터프레임 생성 : plylst_song_map\n",
    "plylst_song_map = pd.DataFrame(data = plylst_song_map_unnest[0], columns = plylst_song_map.columns)\n",
    "plylst_song_map['id'] = plylst_song_map['id'].astype(str)\n",
    "plylst_song_map['songs'] = plylst_song_map['songs'].astype(str)\n",
    "\n",
    "# unnest 객체 제거\n",
    "del plylst_song_map_unnest\n"
   ],
   "metadata": {
    "collapsed": false,
    "pycharm": {
     "name": "#%%\n"
    }
   }
  },
  {
   "cell_type": "code",
   "execution_count": 1,
   "outputs": [
    {
     "data": {
      "text/plain": "\"\\nConvert the eurm = (10.000, 2M) into a recommendation list if cat is set to 'all', otherwhise\\nConvert the eurm = (10.000, 2M) into a recommendation list if a category is specified. #TODO @seba 1k o 10k?\\n:param eurm: the estimated user rating matrix\\n:param remove_seed: remove seed tracks from playlists\\n:param datareader: a Datareader object for seeds removing\\n:param cat: 'all' or a value between 1 and 10\\n:return: recommendation_list: a list of list of recommendations of shape (10k,500)\\n\""
     },
     "execution_count": 1,
     "metadata": {},
     "output_type": "execute_result"
    }
   ],
   "source": [
    "from utils.datareader import DataReader\n",
    "from recommender.dot_product import dot_product_similarity, dot_product\n",
    "from utils.post_processing import eurm_to_recommendation_list\n",
    "\n",
    "# make DataReader object and read json file and convert to the csv\n",
    "dr = DataReader(only_load=True)\n",
    "# make playlist-track matrix and return\n",
    "urm = dr.get_urm(only_load=True)\n",
    "\n",
    "s = dot_product_similarity(urm.T,k=100)\n",
    "\n",
    "r = dot_product(urm, s, k=500)\n",
    "r = r.tocsr()\n",
    "pid = dr.get_val_playlists().transpose()[0]"
   ],
   "metadata": {
    "collapsed": false,
    "pycharm": {
     "name": "#%%\n"
    }
   }
  },
  {
   "cell_type": "code",
   "execution_count": 20,
   "outputs": [
    {
     "data": {
      "text/plain": "array([118598, 131447,  51464, ...,  77438,  36231,  65189])"
     },
     "execution_count": 20,
     "metadata": {},
     "output_type": "execute_result"
    }
   ],
   "source": [
    "pid"
   ],
   "metadata": {
    "collapsed": false,
    "pycharm": {
     "name": "#%%\n"
    }
   }
  },
  {
   "cell_type": "code",
   "execution_count": 16,
   "outputs": [],
   "source": [
    "eurm = r[pid]\n"
   ],
   "metadata": {
    "collapsed": false,
    "pycharm": {
     "name": "#%%\n"
    }
   }
  },
  {
   "cell_type": "code",
   "execution_count": 17,
   "outputs": [
    {
     "data": {
      "text/plain": "array([], dtype=float32)"
     },
     "execution_count": 17,
     "metadata": {},
     "output_type": "execute_result"
    }
   ],
   "source": [
    "eurm.d"
   ],
   "metadata": {
    "collapsed": false,
    "pycharm": {
     "name": "#%%\n"
    }
   }
  },
  {
   "cell_type": "code",
   "execution_count": null,
   "outputs": [],
   "source": [
    "from tqdm import tqdm\n",
    "import numpy as np\n",
    "\n",
    "\"\"\"\n",
    "Convert the eurm = (10.000, 2M) into a recommendation list if cat is set to 'all', otherwhise\n",
    "Convert the eurm = (10.000, 2M) into a recommendation list if a category is specified. #TODO @seba 1k o 10k?\n",
    ":param eurm: the estimated user rating matrix\n",
    ":param remove_seed: remove seed tracks from playlists\n",
    ":param datareader: a Datareader object for seeds removing\n",
    ":param cat: 'all' or a value between 1 and 10\n",
    ":return: recommendation_list: a list of list of recommendations of shape (10k,500)\n",
    "\"\"\""
   ],
   "metadata": {
    "collapsed": false,
    "pycharm": {
     "name": "#%%\n"
    }
   }
  },
  {
   "cell_type": "code",
   "execution_count": 2,
   "outputs": [],
   "source": [
    "# Convert eurm\n",
    "# shape is 23015 x 707989 sparse matrix\n",
    "eurm = eurm.tocsr()"
   ],
   "metadata": {
    "collapsed": false,
    "pycharm": {
     "name": "#%%\n"
    }
   }
  },
  {
   "cell_type": "code",
   "execution_count": 3,
   "outputs": [
    {
     "data": {
      "text/plain": "<23015x707989 sparse matrix of type '<class 'numpy.float32'>'\n\twith 0 stored elements in Compressed Sparse Row format>"
     },
     "execution_count": 3,
     "metadata": {},
     "output_type": "execute_result"
    }
   ],
   "source": [
    "# shape is 23015 x 707989 sparse matrix\n",
    "eurm"
   ],
   "metadata": {
    "collapsed": false,
    "pycharm": {
     "name": "#%%\n"
    }
   }
  },
  {
   "cell_type": "code",
   "execution_count": 15,
   "outputs": [
    {
     "name": "stdout",
     "output_type": "stream",
     "text": [
      "[]\n"
     ]
    }
   ],
   "source": [
    "print(eurm.data)\n"
   ],
   "metadata": {
    "collapsed": false,
    "pycharm": {
     "name": "#%%\n"
    }
   }
  },
  {
   "cell_type": "code",
   "execution_count": 4,
   "outputs": [],
   "source": [
    "\"\"\"\n",
    "Remove seed tracks from the eurm (10K, 2M)\n",
    ":param eurm: original eurm\n",
    ":param datareader: a Datareader object, the same used to build the original eurm\n",
    ":return: eurm: eurm with no seed tracks\n",
    "\"\"\"\n",
    "\n",
    "# Get urm with shape of eurm\n",
    "# shape is 153429 x 707989\n",
    "urm = dr.get_urm(only_load=True)"
   ],
   "metadata": {
    "collapsed": false,
    "pycharm": {
     "name": "#%%\n"
    }
   }
  },
  {
   "cell_type": "code",
   "execution_count": 6,
   "outputs": [],
   "source": [
    "# shape is ndarray: (23015,)\n",
    "pids = dr.get_val_pids()"
   ],
   "metadata": {
    "collapsed": false,
    "pycharm": {
     "name": "#%%\n"
    }
   }
  },
  {
   "cell_type": "code",
   "execution_count": 8,
   "outputs": [],
   "source": [
    "urm_test = urm[pids]"
   ],
   "metadata": {
    "collapsed": false,
    "pycharm": {
     "name": "#%%\n"
    }
   }
  },
  {
   "cell_type": "code",
   "execution_count": 9,
   "outputs": [
    {
     "data": {
      "text/plain": "<23015x707989 sparse matrix of type '<class 'numpy.int32'>'\n\twith 0 stored elements in Compressed Sparse Row format>"
     },
     "execution_count": 9,
     "metadata": {},
     "output_type": "execute_result"
    }
   ],
   "source": [
    "# shape is 23015 x 707989\n",
    "urm_test"
   ],
   "metadata": {
    "collapsed": false,
    "pycharm": {
     "name": "#%%\n"
    }
   }
  },
  {
   "cell_type": "code",
   "execution_count": 12,
   "outputs": [],
   "source": [
    "max_value = eurm.max()"
   ],
   "metadata": {
    "collapsed": false,
    "pycharm": {
     "name": "#%%\n"
    }
   }
  },
  {
   "cell_type": "code",
   "execution_count": 13,
   "outputs": [
    {
     "data": {
      "text/plain": "0.0"
     },
     "execution_count": 13,
     "metadata": {},
     "output_type": "execute_result"
    }
   ],
   "source": [
    "max_value"
   ],
   "metadata": {
    "collapsed": false,
    "pycharm": {
     "name": "#%%\n"
    }
   }
  },
  {
   "cell_type": "code",
   "execution_count": null,
   "outputs": [],
   "source": [
    "new_data = np.ones(len(urm_test.data)) * max_value\n",
    "urm_test.data = new_data\n",
    "\n",
    "# Remove seen\n",
    "eurm = eurm - urm_test\n",
    "\n",
    "if eliminate_negative:\n",
    "    eurm.data[eurm.data <= 0] = 0\n",
    "    eurm.eliminate_zeros()\n",
    "\n",
    "\n",
    "# Remove seeds\n",
    "eurm = eurm_remove_seed(eurm, datareader)\n",
    "print('Seeds removed!')\n",
    "\n",
    "\n",
    "# Initialize rec_list\n",
    "recommendation_list = [[] for x in range(100)]\n",
    "\n",
    "for row in tqdm((range(eurm.shape[0])), desc='Converting eurm'):\n",
    "    print(\"print row\")\n",
    "    print(row)\n",
    "    print(row.shape)\n",
    "    val = eurm.data[eurm.indptr[row]:eurm.indptr[row+1]]\n",
    "    ind = val.argsort()[-500:][::-1]\n",
    "    ind = list(eurm[row].indices[ind])\n",
    "\n",
    "    recommendation_list[row] = ind\n"
   ],
   "metadata": {
    "collapsed": false,
    "pycharm": {
     "name": "#%%\n"
    }
   }
  }
 ],
 "metadata": {
  "kernelspec": {
   "display_name": "Python 3",
   "language": "python",
   "name": "python3"
  },
  "language_info": {
   "codemirror_mode": {
    "name": "ipython",
    "version": 2
   },
   "file_extension": ".py",
   "mimetype": "text/x-python",
   "name": "python",
   "nbconvert_exporter": "python",
   "pygments_lexer": "ipython2",
   "version": "2.7.6"
  }
 },
 "nbformat": 4,
 "nbformat_minor": 0
}