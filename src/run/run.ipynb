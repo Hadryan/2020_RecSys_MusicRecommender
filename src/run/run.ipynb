{
 "cells": [
  {
   "cell_type": "code",
   "execution_count": 1,
   "metadata": {
    "collapsed": true
   },
   "outputs": [],
   "source": [
    "from utils.datareader import DataReader\n",
    "from recommender.dot_product import dot_product_similarity, dot_product\n",
    "from utils.post_processing import eurm_to_recommendation_list\n",
    "\n"
   ]
  },
  {
   "cell_type": "code",
   "execution_count": 2,
   "outputs": [
    {
     "name": "stdout",
     "output_type": "stream",
     "text": [
      "val.json -> val.csv done\n",
      "val.json -> val_pid.csv done\n",
      "train.json -> train.csv done\n",
      "test.json -> test.csv done\n"
     ]
    }
   ],
   "source": [
    "# make DataReader object and read json file and convert to the csv\n",
    "dr = DataReader(only_load=False)"
   ],
   "metadata": {
    "collapsed": false,
    "pycharm": {
     "name": "#%%\n"
    }
   }
  },
  {
   "cell_type": "code",
   "execution_count": 3,
   "outputs": [
    {
     "name": "stdout",
     "output_type": "stream",
     "text": [
      "[saving ptm.npz in ../matrices ]\n"
     ]
    }
   ],
   "source": [
    "# make playlist-track matrix and return\n",
    "urm = dr.get_urm(only_load=False)"
   ],
   "metadata": {
    "collapsed": false,
    "pycharm": {
     "name": "#%%\n"
    }
   }
  },
  {
   "cell_type": "code",
   "execution_count": 4,
   "outputs": [],
   "source": [
    "s = dot_product_similarity(urm.T,k=100)"
   ],
   "metadata": {
    "collapsed": false,
    "pycharm": {
     "name": "#%%\n"
    }
   }
  },
  {
   "cell_type": "code",
   "execution_count": 5,
   "outputs": [],
   "source": [
    "r = dot_product(urm, s, k=500)"
   ],
   "metadata": {
    "collapsed": false,
    "pycharm": {
     "name": "#%%\n"
    }
   }
  },
  {
   "cell_type": "code",
   "execution_count": 6,
   "outputs": [],
   "source": [
    "r = r.tocsr()\n",
    "\n"
   ],
   "metadata": {
    "collapsed": false,
    "pycharm": {
     "name": "#%%\n"
    }
   }
  },
  {
   "cell_type": "code",
   "execution_count": 7,
   "outputs": [],
   "source": [
    "pid = dr.get_val_playlists().transpose()[0]"
   ],
   "metadata": {
    "collapsed": false,
    "pycharm": {
     "name": "#%%\n"
    }
   }
  },
  {
   "cell_type": "code",
   "execution_count": 8,
   "outputs": [],
   "source": [
    "eurm = r[pid]"
   ],
   "metadata": {
    "collapsed": false,
    "pycharm": {
     "name": "#%%\n"
    }
   }
  },
  {
   "cell_type": "code",
   "execution_count": 9,
   "outputs": [
    {
     "name": "stderr",
     "output_type": "stream",
     "text": [
      "Converting eurm: 100%|██████████| 23015/23015 [00:02<00:00, 7881.13it/s]\n"
     ]
    },
    {
     "name": "stdout",
     "output_type": "stream",
     "text": [
      "Seeds removed!\n"
     ]
    }
   ],
   "source": [
    "rec_list = eurm_to_recommendation_list(eurm, datareader=dr)\n"
   ],
   "metadata": {
    "collapsed": false,
    "pycharm": {
     "name": "#%%\n"
    }
   }
  },
  {
   "cell_type": "code",
   "execution_count": 10,
   "outputs": [
    {
     "data": {
      "text/plain": "[679582,\n 622775,\n 648014,\n 695032,\n 674894,\n 635902,\n 587738,\n 465958,\n 619918,\n 623033,\n 625097,\n 625894,\n 632242,\n 629413,\n 598367,\n 634483,\n 635315,\n 636707,\n 637135,\n 637722,\n 638130,\n 611679,\n 594271,\n 594799,\n 566731,\n 459609,\n 509301,\n 510190,\n 526035,\n 409911,\n 559159,\n 566785,\n 639260,\n 569964,\n 570112,\n 575369,\n 587139,\n 591246,\n 592420,\n 638738,\n 612188,\n 684039,\n 649133,\n 675075,\n 672954,\n 666451,\n 665352,\n 657824,\n 656851,\n 656329,\n 468494,\n 648732,\n 516602,\n 399888,\n 456704,\n 457647,\n 454667,\n 556239,\n 555881,\n 510688,\n 545629,\n 465564,\n 488303,\n 467557,\n 469352,\n 467636,\n 544107,\n 482688,\n 476226,\n 448028,\n 519688,\n 471925,\n 539630,\n 506826,\n 479739,\n 481778,\n 538255,\n 423611,\n 410284,\n 431643,\n 442524,\n 446903,\n 406782,\n 429328,\n 407672,\n 137754,\n 396550,\n 395838,\n 400156,\n 394023,\n 97375,\n 142388,\n 440773,\n 644973,\n 695573,\n 474958,\n 656881,\n 289628,\n 603505,\n 391570]"
     },
     "execution_count": 10,
     "metadata": {},
     "output_type": "execute_result"
    }
   ],
   "source": [
    "rec_list"
   ],
   "metadata": {
    "collapsed": false,
    "pycharm": {
     "name": "#%%\n"
    }
   }
  },
  {
   "cell_type": "code",
   "execution_count": 10,
   "outputs": [],
   "source": [
    "dd = dr.load_json(\"../data/data_json/val.json\")"
   ],
   "metadata": {
    "collapsed": false,
    "pycharm": {
     "name": "#%%\n"
    }
   }
  },
  {
   "cell_type": "code",
   "execution_count": 11,
   "outputs": [
    {
     "name": "stdout",
     "output_type": "stream",
     "text": [
      "8383\n",
      "[566257, 454218, 237407, 528278, 374617, 688951, 579592, 282045, 590379, 26083, 695494, 232305, 347303, 311834, 199134, 80103, 221986, 275414, 635759, 661213, 15958, 679405, 400157, 156278, 185513, 510512, 120626, 115765, 473514, 666130, 662086, 346913, 176292, 130275, 98472, 602629, 339124, 675797, 25892, 227630, 534517, 317057, 465471, 109190, 672319, 232224, 284696, 249229, 231481, 637303, 175944, 672550, 477964, 333408, 701557, 183078, 1546, 529629, 421683, 163560, 198416, 160046, 554287, 609247, 411339, 348200, 112008, 318871, 643990, 274716, 405662, 451489, 284814, 500114, 261145, 633203, 53369, 423503, 565629, 495901, 589062, 512218, 58836, 549178, 54408, 303268, 509169, 589242, 559041, 24221, 533410, 92584, 482512, 376821, 255069, 250, 705462, 476588, 578509, 338478]\n"
     ]
    }
   ],
   "source": [
    "cnt = 0\n",
    "found = False\n",
    "for dic in dd:\n",
    "    for (k, v) in dic.items():\n",
    "        if(k == 'id' and v == 91108):\n",
    "            print(cnt)\n",
    "            print(rec_list[cnt])\n",
    "            found = True\n",
    "            break\n",
    "    if(found == True):\n",
    "        break\n",
    "    cnt = cnt + 1\n"
   ],
   "metadata": {
    "collapsed": false,
    "pycharm": {
     "name": "#%%\n"
    }
   }
  },
  {
   "cell_type": "code",
   "execution_count": null,
   "outputs": [],
   "source": [
    "\n"
   ],
   "metadata": {
    "collapsed": false,
    "pycharm": {
     "name": "#%%\n"
    }
   }
  }
 ],
 "metadata": {
  "kernelspec": {
   "name": "python3",
   "language": "python",
   "display_name": "Python 3"
  },
  "language_info": {
   "codemirror_mode": {
    "name": "ipython",
    "version": 2
   },
   "file_extension": ".py",
   "mimetype": "text/x-python",
   "name": "python",
   "nbconvert_exporter": "python",
   "pygments_lexer": "ipython2",
   "version": "2.7.6"
  }
 },
 "nbformat": 4,
 "nbformat_minor": 0
}